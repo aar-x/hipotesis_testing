{
  "nbformat": 4,
  "nbformat_minor": 0,
  "metadata": {
    "colab": {
      "provenance": []
    },
    "kernelspec": {
      "name": "python3",
      "display_name": "Python 3"
    },
    "language_info": {
      "name": "python"
    }
  },
  "cells": [
    {
      "cell_type": "markdown",
      "source": [
        "Exercicis d'Hipotesis Testing.\n",
        "\n",
        "EX01. Descarrega el dataset adjunt de dades oficials de la UEFA i selecciona un atribut del conjunt de dades. Calcula el p-valor i digues si rebutja la hipòtesi nul·la agafant un alfa de 5%."
      ],
      "metadata": {
        "id": "s9kPIYt_pBsu"
      }
    },
    {
      "cell_type": "code",
      "execution_count": 62,
      "metadata": {
        "id": "VYpFj2UHo2-V"
      },
      "outputs": [],
      "source": [
        "import pandas as pd\n",
        "\n",
        "UEFA = pd.read_csv('Lligues europees UEFA.csv', sep=';', encoding='latin1')"
      ]
    },
    {
      "cell_type": "code",
      "source": [
        "print(str(UEFA.columns)+'\\n')\n",
        "print(UEFA.sample(5))"
      ],
      "metadata": {
        "colab": {
          "base_uri": "https://localhost:8080/"
        },
        "id": "eH_6C_5ruhBV",
        "outputId": "4fcc146d-cce2-4165-9e7f-c2aafa54f922"
      },
      "execution_count": 91,
      "outputs": [
        {
          "output_type": "stream",
          "name": "stdout",
          "text": [
            "Index(['Rk', 'Squad', 'Country', 'LgRk', 'MP', 'W', 'D', 'L', 'GF', 'GA', 'GD',\n",
            "       'Pts', 'Pts/G', 'xG', 'xGA', 'xGD', 'xGD/90', 'Last 5', 'Attendance',\n",
            "       'Top Team Scorer', 'Goalkeeper'],\n",
            "      dtype='object')\n",
            "\n",
            "    Rk       Squad Country  LgRk  MP   W   D   L  GF  GA  ...  Pts  Pts/G  \\\n",
            "28  29  Fiorentina     ITA     7  36  18   5  13  56  47  ...   59   1.64   \n",
            "1    2   Liverpool     ENG     2  36  26   8   2  89  24  ...   86   2.39   \n",
            "38  39      Nantes     FRA     9  37  15   9  13  54  47  ...   54   1.46   \n",
            "15  16   Marseille     FRA     3  37  20   8   9  59  38  ...   68   1.84   \n",
            "85  86     Levante     ESP    19  37   7  11  19  47  74  ...   32   0.86   \n",
            "\n",
            "      xG   xGA   xGD  xGD/90     Last 5 Attendance         Top Team Scorer  \\\n",
            "28  55.4  42.4  12.9    0.36  W L L L W      19801     Duan Vlahovi? - 17   \n",
            "1   84.6  33.1  51.4    1.43  W W W D W      53367      Mohamed Salah - 22   \n",
            "38  41.7  53.8 -12.1   -0.33  L W D W L      20368  Randal Kolo Muani - 12   \n",
            "15  56.6  39.2  17.4    0.47  W W L W L      51082      Dimitri Payet - 12   \n",
            "85  54.0  53.8   0.3    0.01  L D W L W      14961  José Luis Morales - 13   \n",
            "\n",
            "            Goalkeeper  \n",
            "28  Pietro Terracciano  \n",
            "1              Alisson  \n",
            "38        Alban Lafont  \n",
            "15           Pau López  \n",
            "85            Cárdenas  \n",
            "\n",
            "[5 rows x 21 columns]\n"
          ]
        }
      ]
    },
    {
      "cell_type": "markdown",
      "source": [
        "Vemos todas las columnas para elegir la que más nos interesa. Nos quedaremos con puntos por partido, que parece la más interesante / objetiva, de cada a ver el rendimiento real de los equipos."
      ],
      "metadata": {
        "id": "7GJFrY0wpAVY"
      }
    },
    {
      "cell_type": "code",
      "source": [
        "goleadores = UEFA['Top Team Scorer']\n",
        "goleadores = [x.split(' - ') for x in goleadores]\n",
        "goles = [x[1] for x in goleadores]\n",
        "n_goles = [int(goles) for goles in goles]\n",
        "print(n_goles)"
      ],
      "metadata": {
        "colab": {
          "base_uri": "https://localhost:8080/"
        },
        "id": "3Zn24tSt05OJ",
        "outputId": "599dc19c-2dd6-4353-fe4f-765291626a04"
      },
      "execution_count": 92,
      "outputs": [
        {
          "output_type": "stream",
          "name": "stdout",
          "text": [
            "[15, 22, 27, 35, 25, 11, 21, 14, 22, 12, 11, 10, 24, 24, 21, 12, 11, 11, 9, 21, 16, 27, 20, 12, 13, 15, 9, 12, 17, 15, 9, 13, 20, 18, 20, 10, 12, 8, 12, 15, 16, 6, 8, 11, 16, 8, 14, 12, 8, 11, 8, 13, 17, 9, 8, 12, 8, 10, 11, 11, 12, 6, 10, 14, 7, 9, 17, 9, 15, 8, 8, 13, 5, 10, 9, 7, 6, 8, 5, 13, 6, 8, 10, 8, 11, 13, 5, 14, 10, 10, 8, 13, 9, 11, 9, 10, 11, 9]\n"
          ]
        }
      ]
    },
    {
      "cell_type": "markdown",
      "source": [
        "Ahora ya tenemos la muestra de goles de los máximos goleadores de los equipos punteros de las ligas europeas en una lista, para poder operar con ella."
      ],
      "metadata": {
        "id": "MAi6oWWy5E9r"
      }
    },
    {
      "cell_type": "code",
      "source": [
        "from scipy.stats import shapiro\n",
        "\n",
        "stat, p = shapiro(n_goles)\n",
        "print('stat=%.2f, p=%.2f\\n' % (stat, p))\n",
        "if p > 0.05:\n",
        " print('Gaussiana')\n",
        "else:\n",
        " print('No gaussiana')"
      ],
      "metadata": {
        "colab": {
          "base_uri": "https://localhost:8080/"
        },
        "id": "f9aHCJDFzKS4",
        "outputId": "6387b379-6019-47b3-de15-32afde12dae4"
      },
      "execution_count": 93,
      "outputs": [
        {
          "output_type": "stream",
          "name": "stdout",
          "text": [
            "stat=0.88, p=0.00\n",
            "\n",
            "No gaussiana\n"
          ]
        }
      ]
    },
    {
      "cell_type": "markdown",
      "source": [
        "Shapiro mide la hipótesis nula de que la distribución sea Gaussiana en base al p valor. En este caso, la probabilidad de encontrar unos datos como los de `Top Team Scorer` si la distribución fuera Gaussiana es de 0,00 (p-valor), que está por debajo de la alpha de 5%, por lo tanto rechazamos la hipótesis nula - que siga una distribución normal - con un nivel de confianza del 95%."
      ],
      "metadata": {
        "id": "qE7qGjM_4xf-"
      }
    },
    {
      "cell_type": "markdown",
      "source": [
        "EX02. Amb el mateix dataset selecciona dos altres atributs del conjunt de dades. Calcula els p-valors i digues si rebutgen la hipòtesi nul·la agafant un alfa de 5%."
      ],
      "metadata": {
        "id": "9YBaP7uhUaU9"
      }
    },
    {
      "cell_type": "markdown",
      "source": [
        "Bien, ahora vamos a comparar datos de distintas ligas europeas, lo que puede resultar más interesante, quedándonos solamente con las muestras correspondientes a cada país. Elegiremos para empezar los goles en contra, como indicador de juego defensivo, comparando Italia con España."
      ],
      "metadata": {
        "id": "-FKgesOVUmv0"
      }
    },
    {
      "cell_type": "code",
      "source": [
        "print(UEFA['Country'].value_counts())"
      ],
      "metadata": {
        "colab": {
          "base_uri": "https://localhost:8080/"
        },
        "id": "1w5XaG29Wn0Z",
        "outputId": "e128d440-9293-4de8-e807-7262e80d2588"
      },
      "execution_count": 94,
      "outputs": [
        {
          "output_type": "stream",
          "name": "stdout",
          "text": [
            "ENG    20\n",
            "ESP    20\n",
            "FRA    20\n",
            "ITA    20\n",
            "GER    18\n",
            "Name: Country, dtype: int64\n"
          ]
        }
      ]
    },
    {
      "cell_type": "markdown",
      "source": [
        "Comprobamos el tamaño de la muestra, en el caso de Italia y España, que es 20."
      ],
      "metadata": {
        "id": "jl-F1qXzXOd2"
      }
    },
    {
      "cell_type": "code",
      "source": [
        "print('Italia: '+str(UEFA[(UEFA['Country'] == 'ITA')]['GA'].mean()))\n",
        "print('Italia: '+str(UEFA[(UEFA['Country'] == 'ESP')]['GA'].mean()))\n"
      ],
      "metadata": {
        "colab": {
          "base_uri": "https://localhost:8080/"
        },
        "id": "dHELK0fwUZju",
        "outputId": "8782432b-b12f-4e56-eccc-57c2865de64c"
      },
      "execution_count": 95,
      "outputs": [
        {
          "output_type": "stream",
          "name": "stdout",
          "text": [
            "Italia: 52.7\n",
            "Italia: 46.5\n"
          ]
        }
      ]
    },
    {
      "cell_type": "markdown",
      "source": [
        "Imprimimos las respectivas medias para tener una idea general. Vemos como la media de goles en contra de los equipos punteros en Italia no sólo no es menor, sino que es mayor que en España. En cualquier caso vamos a hacer nuestro test."
      ],
      "metadata": {
        "id": "0zI9eOrRY9lf"
      }
    },
    {
      "cell_type": "code",
      "source": [
        "from scipy.stats import ttest_ind\n",
        "\n",
        "GA_ESP = UEFA[(UEFA['Country'] == 'ESP')]['GA']\n",
        "GA_ITA = UEFA[(UEFA['Country'] == 'ITA')]['GA']\n",
        "\n",
        "stat, p = ttest_ind(GA_ITA, GA_ESP, alternative='less')\n",
        "print('stat=%.3f, p=%.3f' % (stat, p))\n",
        "if p > 0.05:\n",
        " print('La media de goles en contra en Italia es igual o mayor a la de España')\n",
        "else:\n",
        " print('La media de goles en contra en Italia es probablemente inferior a la de España')"
      ],
      "metadata": {
        "colab": {
          "base_uri": "https://localhost:8080/"
        },
        "id": "MxXUP_3AZbqK",
        "outputId": "29d9979f-bbd1-45b8-eedc-2cabfb3b9444"
      },
      "execution_count": 96,
      "outputs": [
        {
          "output_type": "stream",
          "name": "stdout",
          "text": [
            "stat=1.480, p=0.926\n",
            "La media de goles en contra en Italia es igual o mayor a la de España\n"
          ]
        }
      ]
    },
    {
      "cell_type": "markdown",
      "source": [
        "Realizamos el test t-student para falsar la hipótesis nula de que Italia tiene una media de goles en contra mayor o igual que la de España. Las muestras nos indican que no podemos rechazar la hipótesis nula, pues la probabilidad de que sea así es del 92,6%, muy por encima del 5% a partir del cual podríamos pensar en rechazar la hipótesis nula con un nivel de confianza del 95%."
      ],
      "metadata": {
        "id": "16hE3wmElCmN"
      }
    },
    {
      "cell_type": "markdown",
      "source": [
        "A continuación nos centraremos de nuevo en la media de puntos por partido de los equipos punteros, comparando España con Reino Unido (ENG), como indicador de si una liga es más fácil que la otra."
      ],
      "metadata": {
        "id": "CGVqIi5omRjH"
      }
    },
    {
      "cell_type": "code",
      "source": [
        "print(round(UEFA[(UEFA['Country'] == 'ESP')]['Pts/G'].mean(), 2))\n",
        "print(round(UEFA[(UEFA['Country'] == 'ENG')]['Pts/G'].mean(), 2))"
      ],
      "metadata": {
        "colab": {
          "base_uri": "https://localhost:8080/"
        },
        "id": "nIuPhvuSm7g2",
        "outputId": "6b1b2f54-1b32-43a2-ebb6-8f691d78b112"
      },
      "execution_count": 48,
      "outputs": [
        {
          "output_type": "stream",
          "name": "stdout",
          "text": [
            "1.35\n",
            "1.38\n"
          ]
        }
      ]
    },
    {
      "cell_type": "markdown",
      "source": [
        "Vemos las medias de España e Inglaterra, respectivamente."
      ],
      "metadata": {
        "id": "_puzA0Ah9UTr"
      }
    },
    {
      "cell_type": "code",
      "source": [
        "PG_ESP = UEFA[(UEFA['Country'] == 'ESP')]['Pts/G']\n",
        "PG_ENG = UEFA[(UEFA['Country'] == 'ENG')]['Pts/G']"
      ],
      "metadata": {
        "id": "u9bqysilmsik"
      },
      "execution_count": 50,
      "outputs": []
    },
    {
      "cell_type": "markdown",
      "source": [
        "Guardamos las muestras en dos variables."
      ],
      "metadata": {
        "id": "ijpvja1T9e3M"
      }
    },
    {
      "cell_type": "code",
      "source": [
        "stat, p = ttest_ind(PG_ESP, PG_ENG)\n",
        "print('stat=%.3f, p=%.3f' % (stat, p))\n",
        "if p > 0.05:\n",
        " print('No hay una liga que sea más fácil que la otra entre la Premier League inglesa y la Liga española.')\n",
        "else:\n",
        " print('La Premier League inglesa y la Liga española no son igual de fáciles')"
      ],
      "metadata": {
        "colab": {
          "base_uri": "https://localhost:8080/"
        },
        "id": "8Lir2qjGn0g0",
        "outputId": "0e2d9b3b-7458-45c3-f8c0-68fbff952806"
      },
      "execution_count": 56,
      "outputs": [
        {
          "output_type": "stream",
          "name": "stdout",
          "text": [
            "stat=-0.199, p=0.843\n",
            "No hay una liga que sea más fácil que la otra entre la Premier League inglesa y la Liga española.\n"
          ]
        }
      ]
    },
    {
      "cell_type": "markdown",
      "source": [
        "Para finalmente aplicar el T-Test, que nos permite descartar que haya una liga más fácil que la otra con los datos de las muestras respectivas de puntos por partido. El p-valor está en 84,3%, muy por encima del 5% a partir del que rechazaríamos la hipótesis nula."
      ],
      "metadata": {
        "id": "GZZx_CQQoxEq"
      }
    },
    {
      "cell_type": "markdown",
      "source": [
        "EX03. Continua amb el conjunt de dades adjunt i selecciona tres atributs del conjunt de dades. Calcula el p-valor i digues si rebutja la hipòtesi nul·la agafant un alfa de 5%."
      ],
      "metadata": {
        "id": "ikkKn-dTvRuf"
      }
    },
    {
      "cell_type": "markdown",
      "source": [
        "Por último, nos piden comparar tres medidas. Vamos con el juego ofensivo, compararemos los goles a favor en Reino Unido, Italia y España."
      ],
      "metadata": {
        "id": "Doj2QHzuvaH0"
      }
    },
    {
      "cell_type": "code",
      "source": [
        "print(UEFA[(UEFA['Country'] == 'ESP')]['GF'].mean())\n",
        "print(UEFA[(UEFA['Country'] == 'ENG')]['GF'].mean())\n",
        "print(UEFA[(UEFA['Country'] == 'ITA')]['GF'].mean())"
      ],
      "metadata": {
        "colab": {
          "base_uri": "https://localhost:8080/"
        },
        "id": "CxbVYglXwGtD",
        "outputId": "63baa004-ef43-4d0a-c818-99ab1ff2a718"
      },
      "execution_count": 57,
      "outputs": [
        {
          "output_type": "stream",
          "name": "stdout",
          "text": [
            "46.5\n",
            "50.9\n",
            "52.7\n"
          ]
        }
      ]
    },
    {
      "cell_type": "markdown",
      "source": [
        "Comenzamos visualizando la media de goles a favor de los 20 equipos punteros de cada uno de los países, España, Inglaterra e Italia, en este orden."
      ],
      "metadata": {
        "id": "QKAa79MJwXOH"
      }
    },
    {
      "cell_type": "code",
      "source": [
        "GF_ESP = UEFA[(UEFA['Country'] == 'ESP')]['GF']\n",
        "GF_ENG = UEFA[(UEFA['Country'] == 'ENG')]['GF']\n",
        "GF_ITA = UEFA[(UEFA['Country'] == 'ITA')]['GF']"
      ],
      "metadata": {
        "id": "19iLR84KvnCd"
      },
      "execution_count": 59,
      "outputs": []
    },
    {
      "cell_type": "markdown",
      "source": [
        "Guardamos las tres muestras en su variable correspondiente."
      ],
      "metadata": {
        "id": "QArtWdJtwgS5"
      }
    },
    {
      "cell_type": "code",
      "source": [
        "from scipy.stats import f_oneway\n",
        "\n",
        "stat, p = f_oneway(GF_ESP, GF_ENG, GF_ITA)\n",
        "print('stat=%.3f, p=%.3f' % (stat, p))\n",
        "if p > 0.05:\n",
        " print('Las medias de goles a favor no presenta una diferencia significativa entre las tres ligas de España, Inglaterra e Italia.')\n",
        "else:\n",
        " print('Alguna de las ligas entre España, Inglaterra e Italia, es significativamente más ofensiva que las otras.')"
      ],
      "metadata": {
        "colab": {
          "base_uri": "https://localhost:8080/"
        },
        "id": "h77Tvwt7vCeM",
        "outputId": "0007954a-abbf-4c8b-ed5a-de241e054d2e"
      },
      "execution_count": 97,
      "outputs": [
        {
          "output_type": "stream",
          "name": "stdout",
          "text": [
            "stat=0.807, p=0.451\n",
            "Las medias de goles a favor no presenta una diferencia significativa entre las tres ligas de España, Inglaterra e Italia.\n"
          ]
        }
      ]
    },
    {
      "cell_type": "markdown",
      "source": [
        "Aplicamos el test ANOVA para comparar las tres medias de goles a favor. El p-valor es de 0.451, es decir, también muy superior al 0.05 que nos permitiría descartar la hipótesis nula de que las medias son iguales. Por lo tanto concluímos que no hay una diferencia significativa en el nivel de dificultad de las ligas."
      ],
      "metadata": {
        "id": "8tuyFNvr-LRk"
      }
    },
    {
      "cell_type": "markdown",
      "source": [
        "Finalmente, como resumen, primero hemos utilizado un test de Shapiro-Wilk para comprobar la normalidad de los datos referentes a los máximos goleadores de las ligas europeas, descartando la hipótesis de que sigan una distribución gaussiana - normal. En segundo lugar hemos comparado los dos 'atributos' de goles en contra para los 20 principales equipos de las ligas italiana y español con un test T, no pudiendo afirmar que la media de goles en contra en Italia sea significativamente menor que en España. Por último hemos utilizado un test ANOVA para comparar las medias de puntos por partido de los 20 principales equipos de las ligas española, inglesa e italiana, y tampoco hemos podido descartar que el nivel de dificultad sea parecido. En todos los casos el p-valor ha estado muy distante del necesario para concluir lo contrario.  \n",
        "Destacar por sorprendente el primer caso, obteniendo una probabilidad del 0.00 para afirmar que los goles de los máximos artilleros de estas ligas no siguen una distribución normal."
      ],
      "metadata": {
        "id": "b-_NxgjZyQaZ"
      }
    }
  ]
}