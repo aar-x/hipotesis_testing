{
  "nbformat": 4,
  "nbformat_minor": 0,
  "metadata": {
    "colab": {
      "provenance": []
    },
    "kernelspec": {
      "name": "python3",
      "display_name": "Python 3"
    },
    "language_info": {
      "name": "python"
    }
  },
  "cells": [
    {
      "cell_type": "markdown",
      "source": [
        "Exercicis d'Hipotesis Testing.\n",
        "\n",
        "# EX01. Descarrega el dataset adjunt de dades oficials de la UEFA i selecciona un atribut del conjunt de dades. Calcula el p-valor i digues si rebutja la hipòtesi nul·la agafant un alfa de 5%."
      ],
      "metadata": {
        "id": "s9kPIYt_pBsu"
      }
    },
    {
      "cell_type": "code",
      "execution_count": 59,
      "metadata": {
        "id": "VYpFj2UHo2-V"
      },
      "outputs": [],
      "source": [
        "import pandas as pd\n",
        "\n",
        "UEFA = pd.read_csv('Lligues europees UEFA.csv', sep=';', encoding='latin1')"
      ]
    },
    {
      "cell_type": "code",
      "source": [
        "print(str(UEFA.columns)+'\\n')\n",
        "print(UEFA.sample(5))"
      ],
      "metadata": {
        "colab": {
          "base_uri": "https://localhost:8080/"
        },
        "id": "eH_6C_5ruhBV",
        "outputId": "0b6aeb13-9aad-4e2f-8b82-30531b7a6750"
      },
      "execution_count": 60,
      "outputs": [
        {
          "output_type": "stream",
          "name": "stdout",
          "text": [
            "Index(['Rk', 'Squad', 'Country', 'LgRk', 'MP', 'W', 'D', 'L', 'GF', 'GA', 'GD',\n",
            "       'Pts', 'Pts/G', 'xG', 'xGA', 'xGD', 'xGD/90', 'Last 5', 'Attendance',\n",
            "       'Top Team Scorer', 'Goalkeeper'],\n",
            "      dtype='object')\n",
            "\n",
            "    Rk       Squad Country  LgRk  MP   W   D   L  GF  GA  ...  Pts  Pts/G  \\\n",
            "75  76       Cádiz     ESP    18  37   7  15  15  34  51  ...   36   0.97   \n",
            "48  49    Brighton     ENG    10  37  11  15  11  39  43  ...   48   1.30   \n",
            "9   10   Barcelona     ESP     2  37  21  10   6  68  36  ...   73   1.97   \n",
            "80  81  Hertha BSC     GER    16  34   9   6  19  37  71  ...   33   0.97   \n",
            "14  15   Tottenham     ENG     4  37  21   5  11  64  40  ...   68   1.84   \n",
            "\n",
            "      xG   xGA   xGD  xGD/90     Last 5 Attendance  \\\n",
            "75  39.6  52.5 -12.9   -0.35  L D W L D      14055   \n",
            "48  44.3  45.3  -1.0   -0.03  L D W W D      30931   \n",
            "9   61.3  35.2  26.1    0.71  L W W W D      53933   \n",
            "80  34.1  55.3 -21.2   -0.62  W W D L L      23500   \n",
            "14  61.5  39.0  22.5    0.61  D W D W W      56234   \n",
            "\n",
            "                     Top Team Scorer             Goalkeeper  \n",
            "75                Álvaro Negredo - 7       Jeremías Ledesma  \n",
            "48  Leandro Trossard Neal Maupay - 8         Robert Sánchez  \n",
            "9                 Memphis Depay - 12  Marc-André ter Stegen  \n",
            "80                Stevan Joveti? - 6     Alexander Schwolow  \n",
            "14                Son Heung-min - 21            Hugo Lloris  \n",
            "\n",
            "[5 rows x 21 columns]\n"
          ]
        }
      ]
    },
    {
      "cell_type": "markdown",
      "source": [
        "Mostramos todas las columnas para elegir la que más nos interesa, elegimos los puntos por partido, la más objetiva en este sentido."
      ],
      "metadata": {
        "id": "7GJFrY0wpAVY"
      }
    },
    {
      "cell_type": "code",
      "source": [
        "goleadores = UEFA['Top Team Scorer']\n",
        "goleadores = [x.split(' - ') for x in goleadores]\n",
        "goles = [x[1] for x in goleadores]\n",
        "n_goles = [int(goles) for goles in goles]\n",
        "print(n_goles)"
      ],
      "metadata": {
        "colab": {
          "base_uri": "https://localhost:8080/"
        },
        "id": "3Zn24tSt05OJ",
        "outputId": "34b213fe-1ca0-452b-e144-39397db57482"
      },
      "execution_count": 61,
      "outputs": [
        {
          "output_type": "stream",
          "name": "stdout",
          "text": [
            "[15, 22, 27, 35, 25, 11, 21, 14, 22, 12, 11, 10, 24, 24, 21, 12, 11, 11, 9, 21, 16, 27, 20, 12, 13, 15, 9, 12, 17, 15, 9, 13, 20, 18, 20, 10, 12, 8, 12, 15, 16, 6, 8, 11, 16, 8, 14, 12, 8, 11, 8, 13, 17, 9, 8, 12, 8, 10, 11, 11, 12, 6, 10, 14, 7, 9, 17, 9, 15, 8, 8, 13, 5, 10, 9, 7, 6, 8, 5, 13, 6, 8, 10, 8, 11, 13, 5, 14, 10, 10, 8, 13, 9, 11, 9, 10, 11, 9]\n"
          ]
        }
      ]
    },
    {
      "cell_type": "markdown",
      "source": [
        "Ahora ya tenemos la muestra de goles de los máximos goleadores de los equipos punteros de las ligas europeas en una lista, para poder operar con ella."
      ],
      "metadata": {
        "id": "MAi6oWWy5E9r"
      }
    },
    {
      "cell_type": "code",
      "source": [
        "from scipy.stats import shapiro\n",
        "\n",
        "stat, p = shapiro(n_goles)\n",
        "print('stat=%.2f, p=%.2f\\n' % (stat, p))\n",
        "if p > 0.05:\n",
        " print('Gaussiana')\n",
        "else:\n",
        " print('No gaussiana')"
      ],
      "metadata": {
        "colab": {
          "base_uri": "https://localhost:8080/"
        },
        "id": "f9aHCJDFzKS4",
        "outputId": "ec01e88f-2956-4126-e84c-ec566430307a"
      },
      "execution_count": 62,
      "outputs": [
        {
          "output_type": "stream",
          "name": "stdout",
          "text": [
            "stat=0.88, p=0.00\n",
            "\n",
            "No gaussiana\n"
          ]
        }
      ]
    },
    {
      "cell_type": "markdown",
      "source": [
        "Shapiro mide la hipótesis nula de que la distribución sea Gaussiana en base al p valor. En este caso, la probabilidad de encontrar unos datos como los de `Top Team Scorer` si la distribución fuera Gaussiana es de 0,00 (p-valor), que está por debajo de la alpha de 5%, por lo tanto rechazamos la hipótesis nula - que siga una distribución normal - con un nivel de confianza del 95%."
      ],
      "metadata": {
        "id": "qE7qGjM_4xf-"
      }
    },
    {
      "cell_type": "markdown",
      "source": [
        "- H0: Los goles siguen una distribución gaussiana (normal).\n",
        "- H1: los goles no siguen una distribución normal.\n",
        "\n",
        "- p-valor = 0,00 < 0,05\n",
        "\n",
        "Conclusión: se rechaza la hipótesis nula de que los goles sigan una distribución normal, es decir, los goles marcados por los máximos goleadores de los principales equipos de las principales ligas europeas no siguen una distribución normal."
      ],
      "metadata": {
        "id": "Fv0Jlwcuvqtj"
      }
    },
    {
      "cell_type": "markdown",
      "source": [
        "# EX02. Amb el mateix dataset selecciona dos altres atributs del conjunt de dades. Calcula els p-valors i digues si rebutgen la hipòtesi nul·la agafant un alfa de 5%."
      ],
      "metadata": {
        "id": "9YBaP7uhUaU9"
      }
    },
    {
      "cell_type": "markdown",
      "source": [
        "Bien, ahora vamos a comparar datos de distintas ligas europeas, lo que puede resultar más interesante, quedándonos solamente con las muestras correspondientes a cada país. Elegiremos para empezar los goles en contra, como indicador de juego defensivo, comparando Italia con España."
      ],
      "metadata": {
        "id": "-FKgesOVUmv0"
      }
    },
    {
      "cell_type": "code",
      "source": [
        "print(UEFA['Country'].value_counts())"
      ],
      "metadata": {
        "colab": {
          "base_uri": "https://localhost:8080/"
        },
        "id": "1w5XaG29Wn0Z",
        "outputId": "dcef7d92-4a99-4f85-e64a-843b6e1dc611"
      },
      "execution_count": 63,
      "outputs": [
        {
          "output_type": "stream",
          "name": "stdout",
          "text": [
            "ENG    20\n",
            "ESP    20\n",
            "FRA    20\n",
            "ITA    20\n",
            "GER    18\n",
            "Name: Country, dtype: int64\n"
          ]
        }
      ]
    },
    {
      "cell_type": "markdown",
      "source": [
        "Comprobamos el tamaño de la muestra, en el caso de Italia y España, que es 20."
      ],
      "metadata": {
        "id": "jl-F1qXzXOd2"
      }
    },
    {
      "cell_type": "code",
      "source": [
        "print('Italia: '+str(UEFA[(UEFA['Country'] == 'ITA')]['GA'].mean()))\n",
        "print('España: '+str(UEFA[(UEFA['Country'] == 'ESP')]['GA'].mean()))\n"
      ],
      "metadata": {
        "colab": {
          "base_uri": "https://localhost:8080/"
        },
        "id": "dHELK0fwUZju",
        "outputId": "23cef804-ef60-4818-d81e-be6091a34a29"
      },
      "execution_count": 64,
      "outputs": [
        {
          "output_type": "stream",
          "name": "stdout",
          "text": [
            "Italia: 52.7\n",
            "España: 46.5\n"
          ]
        }
      ]
    },
    {
      "cell_type": "markdown",
      "source": [
        "Mostramos las respectivas medias para tener una idea general. Vemos como la media de goles en contra de los equipos punteros en Italia no sólo no es menor, sino que es mayor que en España. En cualquier caso vamos a hacer nuestro t-test."
      ],
      "metadata": {
        "id": "0zI9eOrRY9lf"
      }
    },
    {
      "cell_type": "markdown",
      "source": [
        "Pero antes necesitamos revisar los supuestos del mismo:\n",
        "\n",
        "1. Normalidad.\n",
        "2. Varianzas homogéneas.\n",
        "3. Independencia."
      ],
      "metadata": {
        "id": "pjN2ORWH3kqg"
      }
    },
    {
      "cell_type": "code",
      "source": [
        "GA_ESP = UEFA[(UEFA['Country'] == 'ESP')]['GA']\n",
        "GA_ITA = UEFA[(UEFA['Country'] == 'ITA')]['GA']"
      ],
      "metadata": {
        "id": "M9oxSQhC4gRg"
      },
      "execution_count": 65,
      "outputs": []
    },
    {
      "cell_type": "markdown",
      "source": [
        "Para comprobar la normalidad de ambas muestras, utilizamos el test de Shapiro:"
      ],
      "metadata": {
        "id": "-eG_YUmZ8AAx"
      }
    },
    {
      "cell_type": "code",
      "source": [
        "from scipy.stats import shapiro\n",
        "\n",
        "stat, p = shapiro(GA_ESP)\n",
        "print('España:')\n",
        "print('stat=%.2f, p=%.2f' % (stat, p))\n",
        "if p > 0.05:\n",
        " print('Gaussiana\\n')\n",
        "else:\n",
        " print('No gaussiana\\n')\n",
        "\n",
        "stat, p = shapiro(GA_ITA)\n",
        "print('Italia:')\n",
        "print('stat=%.2f, p=%.2f' % (stat, p))\n",
        "if p > 0.05:\n",
        " print('Gaussiana\\n')\n",
        "else:\n",
        " print('No gaussiana\\n')"
      ],
      "metadata": {
        "colab": {
          "base_uri": "https://localhost:8080/"
        },
        "id": "6Bdr9zM34SVF",
        "outputId": "1c5b9f5c-39ca-434b-a7d9-083ff04480a1"
      },
      "execution_count": 66,
      "outputs": [
        {
          "output_type": "stream",
          "name": "stdout",
          "text": [
            "España:\n",
            "stat=0.94, p=0.26\n",
            "Gaussiana\n",
            "\n",
            "Italia:\n",
            "stat=0.93, p=0.12\n",
            "Gaussiana\n",
            "\n"
          ]
        }
      ]
    },
    {
      "cell_type": "markdown",
      "source": [
        "Normalidad comprobada."
      ],
      "metadata": {
        "id": "AR5NugVU6YDA"
      }
    },
    {
      "cell_type": "markdown",
      "source": [
        "Para comprobar la independencia, utilizamos el test chi-cuadrado:"
      ],
      "metadata": {
        "id": "RgSkfyog8HEL"
      }
    },
    {
      "cell_type": "code",
      "source": [
        "from scipy.stats import chi2_contingency\n",
        "table = [GA_ESP, GA_ITA]\n",
        "stat, p, dof, expected = chi2_contingency(table)\n",
        "print('stat=%.3f, p=%.3f' % (stat, p))\n",
        "if p > 0.05:\n",
        " print('Probably independent')\n",
        "else:\n",
        " print('Probably dependent')"
      ],
      "metadata": {
        "colab": {
          "base_uri": "https://localhost:8080/"
        },
        "id": "PBBzHHE270gy",
        "outputId": "647a8eb7-7254-4215-f350-25b50a5aadda"
      },
      "execution_count": 67,
      "outputs": [
        {
          "output_type": "stream",
          "name": "stdout",
          "text": [
            "stat=21.258, p=0.323\n",
            "Probably independent\n"
          ]
        }
      ]
    },
    {
      "cell_type": "markdown",
      "source": [
        "Independientes ... nos falta la varianza ..."
      ],
      "metadata": {
        "id": "2NpjhDE-CgNQ"
      }
    },
    {
      "cell_type": "code",
      "source": [
        "print('Varianza España: '+str(GA_ESP.var()))\n",
        "print('Varianza Italia: '+str(GA_ITA.var()))"
      ],
      "metadata": {
        "colab": {
          "base_uri": "https://localhost:8080/"
        },
        "id": "_Xthw3Q1DqEl",
        "outputId": "3b4d22cf-8d8d-453b-d448-56887169aa83"
      },
      "execution_count": 68,
      "outputs": [
        {
          "output_type": "stream",
          "name": "stdout",
          "text": [
            "Varianza España: 148.3684210526316\n",
            "Varianza Italia: 202.64210526315793\n"
          ]
        }
      ]
    },
    {
      "cell_type": "markdown",
      "source": [
        "La varianza dentro de las muestras respectivas de goles en contra en Italia y España es distinta, pero ..."
      ],
      "metadata": {
        "id": "r83utgejEdpm"
      }
    },
    {
      "cell_type": "code",
      "source": [
        "pip install pingouin"
      ],
      "metadata": {
        "id": "5LaRQe_1G6wu"
      },
      "execution_count": null,
      "outputs": []
    },
    {
      "cell_type": "code",
      "source": [
        "import pingouin as pg\n",
        "\n",
        "pg.homoscedasticity(data=UEFA, dv='GA', group='Country')"
      ],
      "metadata": {
        "colab": {
          "base_uri": "https://localhost:8080/",
          "height": 81
        },
        "id": "9mueY8UZGSo_",
        "outputId": "256620b8-9ec1-4cb8-f849-a5680d1c070d"
      },
      "execution_count": 70,
      "outputs": [
        {
          "output_type": "execute_result",
          "data": {
            "text/plain": [
              "               W      pval  equal_var\n",
              "levene  0.749412  0.560872       True"
            ],
            "text/html": [
              "\n",
              "  <div id=\"df-d7ce5a4b-5140-443d-9261-81e421aa93ea\" class=\"colab-df-container\">\n",
              "    <div>\n",
              "<style scoped>\n",
              "    .dataframe tbody tr th:only-of-type {\n",
              "        vertical-align: middle;\n",
              "    }\n",
              "\n",
              "    .dataframe tbody tr th {\n",
              "        vertical-align: top;\n",
              "    }\n",
              "\n",
              "    .dataframe thead th {\n",
              "        text-align: right;\n",
              "    }\n",
              "</style>\n",
              "<table border=\"1\" class=\"dataframe\">\n",
              "  <thead>\n",
              "    <tr style=\"text-align: right;\">\n",
              "      <th></th>\n",
              "      <th>W</th>\n",
              "      <th>pval</th>\n",
              "      <th>equal_var</th>\n",
              "    </tr>\n",
              "  </thead>\n",
              "  <tbody>\n",
              "    <tr>\n",
              "      <th>levene</th>\n",
              "      <td>0.749412</td>\n",
              "      <td>0.560872</td>\n",
              "      <td>True</td>\n",
              "    </tr>\n",
              "  </tbody>\n",
              "</table>\n",
              "</div>\n",
              "    <div class=\"colab-df-buttons\">\n",
              "\n",
              "  <div class=\"colab-df-container\">\n",
              "    <button class=\"colab-df-convert\" onclick=\"convertToInteractive('df-d7ce5a4b-5140-443d-9261-81e421aa93ea')\"\n",
              "            title=\"Convert this dataframe to an interactive table.\"\n",
              "            style=\"display:none;\">\n",
              "\n",
              "  <svg xmlns=\"http://www.w3.org/2000/svg\" height=\"24px\" viewBox=\"0 -960 960 960\">\n",
              "    <path d=\"M120-120v-720h720v720H120Zm60-500h600v-160H180v160Zm220 220h160v-160H400v160Zm0 220h160v-160H400v160ZM180-400h160v-160H180v160Zm440 0h160v-160H620v160ZM180-180h160v-160H180v160Zm440 0h160v-160H620v160Z\"/>\n",
              "  </svg>\n",
              "    </button>\n",
              "\n",
              "  <style>\n",
              "    .colab-df-container {\n",
              "      display:flex;\n",
              "      gap: 12px;\n",
              "    }\n",
              "\n",
              "    .colab-df-convert {\n",
              "      background-color: #E8F0FE;\n",
              "      border: none;\n",
              "      border-radius: 50%;\n",
              "      cursor: pointer;\n",
              "      display: none;\n",
              "      fill: #1967D2;\n",
              "      height: 32px;\n",
              "      padding: 0 0 0 0;\n",
              "      width: 32px;\n",
              "    }\n",
              "\n",
              "    .colab-df-convert:hover {\n",
              "      background-color: #E2EBFA;\n",
              "      box-shadow: 0px 1px 2px rgba(60, 64, 67, 0.3), 0px 1px 3px 1px rgba(60, 64, 67, 0.15);\n",
              "      fill: #174EA6;\n",
              "    }\n",
              "\n",
              "    .colab-df-buttons div {\n",
              "      margin-bottom: 4px;\n",
              "    }\n",
              "\n",
              "    [theme=dark] .colab-df-convert {\n",
              "      background-color: #3B4455;\n",
              "      fill: #D2E3FC;\n",
              "    }\n",
              "\n",
              "    [theme=dark] .colab-df-convert:hover {\n",
              "      background-color: #434B5C;\n",
              "      box-shadow: 0px 1px 3px 1px rgba(0, 0, 0, 0.15);\n",
              "      filter: drop-shadow(0px 1px 2px rgba(0, 0, 0, 0.3));\n",
              "      fill: #FFFFFF;\n",
              "    }\n",
              "  </style>\n",
              "\n",
              "    <script>\n",
              "      const buttonEl =\n",
              "        document.querySelector('#df-d7ce5a4b-5140-443d-9261-81e421aa93ea button.colab-df-convert');\n",
              "      buttonEl.style.display =\n",
              "        google.colab.kernel.accessAllowed ? 'block' : 'none';\n",
              "\n",
              "      async function convertToInteractive(key) {\n",
              "        const element = document.querySelector('#df-d7ce5a4b-5140-443d-9261-81e421aa93ea');\n",
              "        const dataTable =\n",
              "          await google.colab.kernel.invokeFunction('convertToInteractive',\n",
              "                                                    [key], {});\n",
              "        if (!dataTable) return;\n",
              "\n",
              "        const docLinkHtml = 'Like what you see? Visit the ' +\n",
              "          '<a target=\"_blank\" href=https://colab.research.google.com/notebooks/data_table.ipynb>data table notebook</a>'\n",
              "          + ' to learn more about interactive tables.';\n",
              "        element.innerHTML = '';\n",
              "        dataTable['output_type'] = 'display_data';\n",
              "        await google.colab.output.renderOutput(dataTable, element);\n",
              "        const docLink = document.createElement('div');\n",
              "        docLink.innerHTML = docLinkHtml;\n",
              "        element.appendChild(docLink);\n",
              "      }\n",
              "    </script>\n",
              "  </div>\n",
              "\n",
              "    </div>\n",
              "  </div>\n"
            ]
          },
          "metadata": {},
          "execution_count": 70
        }
      ]
    },
    {
      "cell_type": "markdown",
      "source": [
        "Si aplicamos el test de levene para comprobar si son significativamente distintas, vemos como no, es decir, ya hemos comprobado que se cumplen los tres requisitos para poder aplicar el t-test a los goles en contra ..."
      ],
      "metadata": {
        "id": "BcRYHyv2HyXO"
      }
    },
    {
      "cell_type": "code",
      "source": [
        "from scipy.stats import ttest_ind\n",
        "\n",
        "stat, p = ttest_ind(GA_ITA, GA_ESP, alternative='less')\n",
        "print('stat=%.3f, p=%.3f' % (stat, p))\n",
        "if p > 0.05:\n",
        " print('La media de goles en contra en Italia es igual o mayor a la de España')\n",
        "else:\n",
        " print('La media de goles en contra en Italia es probablemente inferior a la de España')"
      ],
      "metadata": {
        "colab": {
          "base_uri": "https://localhost:8080/"
        },
        "id": "MxXUP_3AZbqK",
        "outputId": "44e899f8-84a4-4e9d-ff42-c3b5126fc644"
      },
      "execution_count": 71,
      "outputs": [
        {
          "output_type": "stream",
          "name": "stdout",
          "text": [
            "stat=1.480, p=0.926\n",
            "La media de goles en contra en Italia es igual o mayor a la de España\n"
          ]
        }
      ]
    },
    {
      "cell_type": "markdown",
      "source": [
        "Realizamos el test t-student para falsar la hipótesis nula de que Italia tiene una media de goles en contra mayor o igual que la de España. Las muestras nos indican que no podemos rechazar la hipótesis nula, pues la probabilidad de que sea así es del 92,6%, muy por encima del 5% a partir del cual podríamos pensar en rechazar la hipótesis nula con un nivel de confianza del 95%."
      ],
      "metadata": {
        "id": "16hE3wmElCmN"
      }
    },
    {
      "cell_type": "markdown",
      "source": [
        "- H0: La media de goles en contra en la liga italiana es inferior a la de España.\n",
        "- H1: La media de goles en contra en la liga italiana es igual a la de España.\n",
        "\n",
        "- p-valor = 0,926 > 0,05\n",
        "\n",
        "Conclusión: se rechaza la hipótesis nula de que la media de los goles en contra sea inferior en la liga italiana. Por lo tanto solamente teniendo en cuenta los datos de los principales equipos de ambos países, y siguiendo este criterio, no podemos afirmar que la liga italiana sea más defensiva que la española."
      ],
      "metadata": {
        "id": "Py-9fsb4xR1M"
      }
    },
    {
      "cell_type": "markdown",
      "source": [
        "A continuación nos centraremos de nuevo en la media de puntos por partido de los equipos punteros, comparando España con Inglaterra (ENG), como indicador de si una liga es más fácil que la otra."
      ],
      "metadata": {
        "id": "CGVqIi5omRjH"
      }
    },
    {
      "cell_type": "code",
      "source": [
        "print('España: '+str(round(UEFA[(UEFA['Country'] == 'ESP')]['Pts/G'].mean(), 2)))\n",
        "print('Inglaterra: '+str(round(UEFA[(UEFA['Country'] == 'ENG')]['Pts/G'].mean(), 2)))"
      ],
      "metadata": {
        "colab": {
          "base_uri": "https://localhost:8080/"
        },
        "id": "nIuPhvuSm7g2",
        "outputId": "cde410d7-6614-4fab-a964-db5b0003f341"
      },
      "execution_count": 72,
      "outputs": [
        {
          "output_type": "stream",
          "name": "stdout",
          "text": [
            "España: 1.35\n",
            "Inglaterra: 1.38\n"
          ]
        }
      ]
    },
    {
      "cell_type": "markdown",
      "source": [
        "Arriba vemos las medias de España e Inglaterra, respectivamente."
      ],
      "metadata": {
        "id": "_puzA0Ah9UTr"
      }
    },
    {
      "cell_type": "code",
      "source": [
        "PG_ESP = UEFA[(UEFA['Country'] == 'ESP')]['Pts/G']\n",
        "PG_ENG = UEFA[(UEFA['Country'] == 'ENG')]['Pts/G']"
      ],
      "metadata": {
        "id": "u9bqysilmsik"
      },
      "execution_count": 73,
      "outputs": []
    },
    {
      "cell_type": "markdown",
      "source": [
        "Guardamos las muestras en dos variables."
      ],
      "metadata": {
        "id": "ijpvja1T9e3M"
      }
    },
    {
      "cell_type": "markdown",
      "source": [
        "Vamos otra vez con las comprobaciones para poder aplicar t-test ..."
      ],
      "metadata": {
        "id": "48SEJzIJIXW6"
      }
    },
    {
      "cell_type": "code",
      "source": [
        "# Normalidad\n",
        "\n",
        "stat, p = shapiro(PG_ESP)\n",
        "print('España:')\n",
        "print('stat=%.2f, p=%.2f' % (stat, p))\n",
        "if p > 0.05:\n",
        " print('Gaussiana\\n')\n",
        "else:\n",
        " print('No gaussiana\\n')\n",
        "\n",
        "stat, p = shapiro(PG_ENG)\n",
        "print('Inglaterra:')\n",
        "print('stat=%.2f, p=%.2f' % (stat, p))\n",
        "if p > 0.05:\n",
        " print('Gaussiana\\n')\n",
        "else:\n",
        " print('No gaussiana\\n')\n",
        "\n",
        " # Independencia\n",
        "\n",
        "table = [PG_ESP, PG_ENG]\n",
        "stat, p, dof, expected = chi2_contingency(table)\n",
        "print('stat=%.3f, p=%.3f' % (stat, p))\n",
        "if p > 0.05:\n",
        " print('Probably independent')\n",
        "else:\n",
        " print('Probably dependent')\n",
        "\n",
        "# Varianzas\n",
        "\n",
        "pg.homoscedasticity(data=UEFA, dv='Pts/G', group='Country')"
      ],
      "metadata": {
        "colab": {
          "base_uri": "https://localhost:8080/",
          "height": 254
        },
        "id": "u_XlzKq9IWCa",
        "outputId": "9c618200-a20c-4225-bf29-51f6d6642010"
      },
      "execution_count": 74,
      "outputs": [
        {
          "output_type": "stream",
          "name": "stdout",
          "text": [
            "España:\n",
            "stat=0.92, p=0.10\n",
            "Gaussiana\n",
            "\n",
            "Inglaterra:\n",
            "stat=0.94, p=0.30\n",
            "Gaussiana\n",
            "\n",
            "stat=0.158, p=1.000\n",
            "Probably independent\n"
          ]
        },
        {
          "output_type": "execute_result",
          "data": {
            "text/plain": [
              "               W      pval  equal_var\n",
              "levene  0.225957  0.923255       True"
            ],
            "text/html": [
              "\n",
              "  <div id=\"df-2dcbc14e-80b1-4cd6-8aca-4230488385f6\" class=\"colab-df-container\">\n",
              "    <div>\n",
              "<style scoped>\n",
              "    .dataframe tbody tr th:only-of-type {\n",
              "        vertical-align: middle;\n",
              "    }\n",
              "\n",
              "    .dataframe tbody tr th {\n",
              "        vertical-align: top;\n",
              "    }\n",
              "\n",
              "    .dataframe thead th {\n",
              "        text-align: right;\n",
              "    }\n",
              "</style>\n",
              "<table border=\"1\" class=\"dataframe\">\n",
              "  <thead>\n",
              "    <tr style=\"text-align: right;\">\n",
              "      <th></th>\n",
              "      <th>W</th>\n",
              "      <th>pval</th>\n",
              "      <th>equal_var</th>\n",
              "    </tr>\n",
              "  </thead>\n",
              "  <tbody>\n",
              "    <tr>\n",
              "      <th>levene</th>\n",
              "      <td>0.225957</td>\n",
              "      <td>0.923255</td>\n",
              "      <td>True</td>\n",
              "    </tr>\n",
              "  </tbody>\n",
              "</table>\n",
              "</div>\n",
              "    <div class=\"colab-df-buttons\">\n",
              "\n",
              "  <div class=\"colab-df-container\">\n",
              "    <button class=\"colab-df-convert\" onclick=\"convertToInteractive('df-2dcbc14e-80b1-4cd6-8aca-4230488385f6')\"\n",
              "            title=\"Convert this dataframe to an interactive table.\"\n",
              "            style=\"display:none;\">\n",
              "\n",
              "  <svg xmlns=\"http://www.w3.org/2000/svg\" height=\"24px\" viewBox=\"0 -960 960 960\">\n",
              "    <path d=\"M120-120v-720h720v720H120Zm60-500h600v-160H180v160Zm220 220h160v-160H400v160Zm0 220h160v-160H400v160ZM180-400h160v-160H180v160Zm440 0h160v-160H620v160ZM180-180h160v-160H180v160Zm440 0h160v-160H620v160Z\"/>\n",
              "  </svg>\n",
              "    </button>\n",
              "\n",
              "  <style>\n",
              "    .colab-df-container {\n",
              "      display:flex;\n",
              "      gap: 12px;\n",
              "    }\n",
              "\n",
              "    .colab-df-convert {\n",
              "      background-color: #E8F0FE;\n",
              "      border: none;\n",
              "      border-radius: 50%;\n",
              "      cursor: pointer;\n",
              "      display: none;\n",
              "      fill: #1967D2;\n",
              "      height: 32px;\n",
              "      padding: 0 0 0 0;\n",
              "      width: 32px;\n",
              "    }\n",
              "\n",
              "    .colab-df-convert:hover {\n",
              "      background-color: #E2EBFA;\n",
              "      box-shadow: 0px 1px 2px rgba(60, 64, 67, 0.3), 0px 1px 3px 1px rgba(60, 64, 67, 0.15);\n",
              "      fill: #174EA6;\n",
              "    }\n",
              "\n",
              "    .colab-df-buttons div {\n",
              "      margin-bottom: 4px;\n",
              "    }\n",
              "\n",
              "    [theme=dark] .colab-df-convert {\n",
              "      background-color: #3B4455;\n",
              "      fill: #D2E3FC;\n",
              "    }\n",
              "\n",
              "    [theme=dark] .colab-df-convert:hover {\n",
              "      background-color: #434B5C;\n",
              "      box-shadow: 0px 1px 3px 1px rgba(0, 0, 0, 0.15);\n",
              "      filter: drop-shadow(0px 1px 2px rgba(0, 0, 0, 0.3));\n",
              "      fill: #FFFFFF;\n",
              "    }\n",
              "  </style>\n",
              "\n",
              "    <script>\n",
              "      const buttonEl =\n",
              "        document.querySelector('#df-2dcbc14e-80b1-4cd6-8aca-4230488385f6 button.colab-df-convert');\n",
              "      buttonEl.style.display =\n",
              "        google.colab.kernel.accessAllowed ? 'block' : 'none';\n",
              "\n",
              "      async function convertToInteractive(key) {\n",
              "        const element = document.querySelector('#df-2dcbc14e-80b1-4cd6-8aca-4230488385f6');\n",
              "        const dataTable =\n",
              "          await google.colab.kernel.invokeFunction('convertToInteractive',\n",
              "                                                    [key], {});\n",
              "        if (!dataTable) return;\n",
              "\n",
              "        const docLinkHtml = 'Like what you see? Visit the ' +\n",
              "          '<a target=\"_blank\" href=https://colab.research.google.com/notebooks/data_table.ipynb>data table notebook</a>'\n",
              "          + ' to learn more about interactive tables.';\n",
              "        element.innerHTML = '';\n",
              "        dataTable['output_type'] = 'display_data';\n",
              "        await google.colab.output.renderOutput(dataTable, element);\n",
              "        const docLink = document.createElement('div');\n",
              "        docLink.innerHTML = docLinkHtml;\n",
              "        element.appendChild(docLink);\n",
              "      }\n",
              "    </script>\n",
              "  </div>\n",
              "\n",
              "    </div>\n",
              "  </div>\n"
            ]
          },
          "metadata": {},
          "execution_count": 74
        }
      ]
    },
    {
      "cell_type": "markdown",
      "source": [
        "Ya lo tenemos todo comprobado: normalidad, independencia y varianzas iguales entre las dos muestras, es decir, podemos aplicar el t-test."
      ],
      "metadata": {
        "id": "JtUY8M-hKJP6"
      }
    },
    {
      "cell_type": "code",
      "source": [
        "stat, p = ttest_ind(PG_ESP, PG_ENG)\n",
        "print('stat=%.3f, p=%.3f' % (stat, p))\n",
        "if p > 0.05:\n",
        " print('No hay una liga que sea más fácil que la otra entre la Premier League inglesa y la Liga española.')\n",
        "else:\n",
        " print('La Premier League inglesa y la Liga española no son igual de fáciles')"
      ],
      "metadata": {
        "colab": {
          "base_uri": "https://localhost:8080/"
        },
        "id": "8Lir2qjGn0g0",
        "outputId": "b85996ca-244f-41e5-9e6e-9a57f6c9cb73"
      },
      "execution_count": 75,
      "outputs": [
        {
          "output_type": "stream",
          "name": "stdout",
          "text": [
            "stat=-0.199, p=0.843\n",
            "No hay una liga que sea más fácil que la otra entre la Premier League inglesa y la Liga española.\n"
          ]
        }
      ]
    },
    {
      "cell_type": "markdown",
      "source": [
        "Comparamos las dos muestras aplicando el T-Test, que nos permite descartar que haya una liga más fácil que la otra con los datos de las muestras respectivas de puntos por partido. El p-valor está en 84,3%, muy por encima del 5% a partir del que rechazaríamos la hipótesis nula."
      ],
      "metadata": {
        "id": "GZZx_CQQoxEq"
      }
    },
    {
      "cell_type": "markdown",
      "source": [
        "- H0: La media de puntos por partido de los principales equipos de las ligas inglesa y española es la misma.\n",
        "- H1: La media de puntos por partido no es la misma (hay una que es superior que la otra, da igual cuál).\n",
        "- p-valor = 0,853 > 0,05\n",
        "\n",
        "Conclusión: No podemos descartar la hipótesis nula de que la media de puntos por partido entre las ligas inglesa y española sea la misma, es decir, teniendo en cuenta estos datos no podemos decir que una de las dos ligas sea más fácil que la otra."
      ],
      "metadata": {
        "id": "Fo5xTsmly7vY"
      }
    },
    {
      "cell_type": "markdown",
      "source": [
        "# EX03. Continua amb el conjunt de dades adjunt i selecciona tres atributs del conjunt de dades. Calcula el p-valor i digues si rebutja la hipòtesi nul·la agafant un alfa de 5%."
      ],
      "metadata": {
        "id": "ikkKn-dTvRuf"
      }
    },
    {
      "cell_type": "markdown",
      "source": [
        "Por último, nos piden comparar tres medidas. Vamos con el juego ofensivo, compararemos los goles a favor en Reino Unido, Italia y España."
      ],
      "metadata": {
        "id": "Doj2QHzuvaH0"
      }
    },
    {
      "cell_type": "code",
      "source": [
        "print(UEFA[(UEFA['Country'] == 'ESP')]['GF'].mean())\n",
        "print(UEFA[(UEFA['Country'] == 'ENG')]['GF'].mean())\n",
        "print(UEFA[(UEFA['Country'] == 'ITA')]['GF'].mean())"
      ],
      "metadata": {
        "colab": {
          "base_uri": "https://localhost:8080/"
        },
        "id": "CxbVYglXwGtD",
        "outputId": "3d3d4572-dd89-4aac-bc02-77abad08f9f7"
      },
      "execution_count": 76,
      "outputs": [
        {
          "output_type": "stream",
          "name": "stdout",
          "text": [
            "46.5\n",
            "50.9\n",
            "52.7\n"
          ]
        }
      ]
    },
    {
      "cell_type": "markdown",
      "source": [
        "Comenzamos visualizando la media de goles a favor de los 20 equipos punteros de cada uno de los países, España, Inglaterra e Italia, en este orden."
      ],
      "metadata": {
        "id": "QKAa79MJwXOH"
      }
    },
    {
      "cell_type": "code",
      "source": [
        "GF_ESP = UEFA[(UEFA['Country'] == 'ESP')]['GF']\n",
        "GF_ENG = UEFA[(UEFA['Country'] == 'ENG')]['GF']\n",
        "GF_ITA = UEFA[(UEFA['Country'] == 'ITA')]['GF']"
      ],
      "metadata": {
        "id": "19iLR84KvnCd"
      },
      "execution_count": 77,
      "outputs": []
    },
    {
      "cell_type": "code",
      "source": [
        "GF_ENG"
      ],
      "metadata": {
        "colab": {
          "base_uri": "https://localhost:8080/"
        },
        "id": "3Tl_tIzPOy8k",
        "outputId": "af49c64f-278d-4dec-f792-2a011bb28b02"
      },
      "execution_count": 78,
      "outputs": [
        {
          "output_type": "execute_result",
          "data": {
            "text/plain": [
              "0     96\n",
              "1     89\n",
              "10    73\n",
              "14    64\n",
              "17    56\n",
              "33    57\n",
              "36    59\n",
              "41    37\n",
              "46    57\n",
              "48    39\n",
              "51    47\n",
              "55    47\n",
              "58    49\n",
              "61    40\n",
              "67    41\n",
              "74    39\n",
              "82    40\n",
              "83    32\n",
              "95    33\n",
              "96    23\n",
              "Name: GF, dtype: int64"
            ]
          },
          "metadata": {},
          "execution_count": 78
        }
      ]
    },
    {
      "cell_type": "markdown",
      "source": [
        "Guardamos las tres muestras en su variable correspondiente."
      ],
      "metadata": {
        "id": "QArtWdJtwgS5"
      }
    },
    {
      "cell_type": "code",
      "source": [
        "# Normalidad\n",
        "\n",
        "stat, p = shapiro(GF_ESP)\n",
        "print('España:')\n",
        "print('stat=%.2f, p=%.2f' % (stat, p))\n",
        "if p > 0.05:\n",
        " print('Gaussiana\\n')\n",
        "else:\n",
        " print('No gaussiana\\n')\n",
        "\n",
        "stat, p = shapiro(GF_ITA)\n",
        "print('Italia:')\n",
        "print('stat=%.2f, p=%.2f' % (stat, p))\n",
        "if p > 0.05:\n",
        " print('Gaussiana\\n')\n",
        "else:\n",
        " print('No gaussiana\\n')\n",
        "\n",
        "stat, p = shapiro(GF_ENG)\n",
        "print('Inglaterra:')\n",
        "print('stat=%.2f, p=%.2f' % (stat, p))\n",
        "if p > 0.05:\n",
        " print('Gaussiana\\n')\n",
        "else:\n",
        " print('No gaussiana\\n')\n",
        "\n",
        " # Independencia\n",
        "\n",
        "table = [GF_ESP, GF_ENG, GF_ITA]\n",
        "stat, p, dof, expected = chi2_contingency(table)\n",
        "print('stat=%.3f, p=%.3f' % (stat, p))\n",
        "if p > 0.05:\n",
        " print('Probably independent')\n",
        "else:\n",
        " print('Probably dependent')\n",
        "\n",
        "# Varianzas\n",
        "\n",
        "pg.homoscedasticity(data=UEFA, dv='GF', group='Country')"
      ],
      "metadata": {
        "colab": {
          "base_uri": "https://localhost:8080/",
          "height": 324
        },
        "id": "hN_mHZwlKnx6",
        "outputId": "64e5f45e-e3e1-4b20-dad6-322b03580fae"
      },
      "execution_count": 79,
      "outputs": [
        {
          "output_type": "stream",
          "name": "stdout",
          "text": [
            "España:\n",
            "stat=0.89, p=0.02\n",
            "No gaussiana\n",
            "\n",
            "Italia:\n",
            "stat=0.97, p=0.79\n",
            "Gaussiana\n",
            "\n",
            "Inglaterra:\n",
            "stat=0.91, p=0.07\n",
            "Gaussiana\n",
            "\n",
            "stat=47.239, p=0.145\n",
            "Probably independent\n"
          ]
        },
        {
          "output_type": "execute_result",
          "data": {
            "text/plain": [
              "              W      pval  equal_var\n",
              "levene  0.56342  0.689781       True"
            ],
            "text/html": [
              "\n",
              "  <div id=\"df-7912c3f8-29f4-4f8f-8371-a1aad7182fcb\" class=\"colab-df-container\">\n",
              "    <div>\n",
              "<style scoped>\n",
              "    .dataframe tbody tr th:only-of-type {\n",
              "        vertical-align: middle;\n",
              "    }\n",
              "\n",
              "    .dataframe tbody tr th {\n",
              "        vertical-align: top;\n",
              "    }\n",
              "\n",
              "    .dataframe thead th {\n",
              "        text-align: right;\n",
              "    }\n",
              "</style>\n",
              "<table border=\"1\" class=\"dataframe\">\n",
              "  <thead>\n",
              "    <tr style=\"text-align: right;\">\n",
              "      <th></th>\n",
              "      <th>W</th>\n",
              "      <th>pval</th>\n",
              "      <th>equal_var</th>\n",
              "    </tr>\n",
              "  </thead>\n",
              "  <tbody>\n",
              "    <tr>\n",
              "      <th>levene</th>\n",
              "      <td>0.56342</td>\n",
              "      <td>0.689781</td>\n",
              "      <td>True</td>\n",
              "    </tr>\n",
              "  </tbody>\n",
              "</table>\n",
              "</div>\n",
              "    <div class=\"colab-df-buttons\">\n",
              "\n",
              "  <div class=\"colab-df-container\">\n",
              "    <button class=\"colab-df-convert\" onclick=\"convertToInteractive('df-7912c3f8-29f4-4f8f-8371-a1aad7182fcb')\"\n",
              "            title=\"Convert this dataframe to an interactive table.\"\n",
              "            style=\"display:none;\">\n",
              "\n",
              "  <svg xmlns=\"http://www.w3.org/2000/svg\" height=\"24px\" viewBox=\"0 -960 960 960\">\n",
              "    <path d=\"M120-120v-720h720v720H120Zm60-500h600v-160H180v160Zm220 220h160v-160H400v160Zm0 220h160v-160H400v160ZM180-400h160v-160H180v160Zm440 0h160v-160H620v160ZM180-180h160v-160H180v160Zm440 0h160v-160H620v160Z\"/>\n",
              "  </svg>\n",
              "    </button>\n",
              "\n",
              "  <style>\n",
              "    .colab-df-container {\n",
              "      display:flex;\n",
              "      gap: 12px;\n",
              "    }\n",
              "\n",
              "    .colab-df-convert {\n",
              "      background-color: #E8F0FE;\n",
              "      border: none;\n",
              "      border-radius: 50%;\n",
              "      cursor: pointer;\n",
              "      display: none;\n",
              "      fill: #1967D2;\n",
              "      height: 32px;\n",
              "      padding: 0 0 0 0;\n",
              "      width: 32px;\n",
              "    }\n",
              "\n",
              "    .colab-df-convert:hover {\n",
              "      background-color: #E2EBFA;\n",
              "      box-shadow: 0px 1px 2px rgba(60, 64, 67, 0.3), 0px 1px 3px 1px rgba(60, 64, 67, 0.15);\n",
              "      fill: #174EA6;\n",
              "    }\n",
              "\n",
              "    .colab-df-buttons div {\n",
              "      margin-bottom: 4px;\n",
              "    }\n",
              "\n",
              "    [theme=dark] .colab-df-convert {\n",
              "      background-color: #3B4455;\n",
              "      fill: #D2E3FC;\n",
              "    }\n",
              "\n",
              "    [theme=dark] .colab-df-convert:hover {\n",
              "      background-color: #434B5C;\n",
              "      box-shadow: 0px 1px 3px 1px rgba(0, 0, 0, 0.15);\n",
              "      filter: drop-shadow(0px 1px 2px rgba(0, 0, 0, 0.3));\n",
              "      fill: #FFFFFF;\n",
              "    }\n",
              "  </style>\n",
              "\n",
              "    <script>\n",
              "      const buttonEl =\n",
              "        document.querySelector('#df-7912c3f8-29f4-4f8f-8371-a1aad7182fcb button.colab-df-convert');\n",
              "      buttonEl.style.display =\n",
              "        google.colab.kernel.accessAllowed ? 'block' : 'none';\n",
              "\n",
              "      async function convertToInteractive(key) {\n",
              "        const element = document.querySelector('#df-7912c3f8-29f4-4f8f-8371-a1aad7182fcb');\n",
              "        const dataTable =\n",
              "          await google.colab.kernel.invokeFunction('convertToInteractive',\n",
              "                                                    [key], {});\n",
              "        if (!dataTable) return;\n",
              "\n",
              "        const docLinkHtml = 'Like what you see? Visit the ' +\n",
              "          '<a target=\"_blank\" href=https://colab.research.google.com/notebooks/data_table.ipynb>data table notebook</a>'\n",
              "          + ' to learn more about interactive tables.';\n",
              "        element.innerHTML = '';\n",
              "        dataTable['output_type'] = 'display_data';\n",
              "        await google.colab.output.renderOutput(dataTable, element);\n",
              "        const docLink = document.createElement('div');\n",
              "        docLink.innerHTML = docLinkHtml;\n",
              "        element.appendChild(docLink);\n",
              "      }\n",
              "    </script>\n",
              "  </div>\n",
              "\n",
              "    </div>\n",
              "  </div>\n"
            ]
          },
          "metadata": {},
          "execution_count": 79
        }
      ]
    },
    {
      "cell_type": "markdown",
      "source": [
        "El único requisito que no se cumple es la distribución gaussiana de los goles a favor en España, pero en este caso, dado que tanto en Italia como en Inglaterra sí se cumplen, vamos a optar por mostrar los datos en un kdeplot para ver si la distribución se asemeja a una normal:"
      ],
      "metadata": {
        "id": "jmCdFIbbPpIh"
      }
    },
    {
      "cell_type": "code",
      "source": [
        "import seaborn as sns\n",
        "import matplotlib.pyplot as plt\n",
        "\n",
        "sns.kdeplot(GF_ESP, shade=True)\n",
        "plt.title('Goles a favor en España')"
      ],
      "metadata": {
        "colab": {
          "base_uri": "https://localhost:8080/",
          "height": 593
        },
        "id": "AhvuqRj0M7J5",
        "outputId": "0f1ff9e1-f11d-485a-8f84-3bff58769f6b"
      },
      "execution_count": 80,
      "outputs": [
        {
          "output_type": "stream",
          "name": "stderr",
          "text": [
            "<ipython-input-80-0e632670e211>:4: FutureWarning: \n",
            "\n",
            "`shade` is now deprecated in favor of `fill`; setting `fill=True`.\n",
            "This will become an error in seaborn v0.14.0; please update your code.\n",
            "\n",
            "  sns.kdeplot(GF_ESP, shade=True)\n"
          ]
        },
        {
          "output_type": "execute_result",
          "data": {
            "text/plain": [
              "Text(0.5, 1.0, 'Goles a favor en España')"
            ]
          },
          "metadata": {},
          "execution_count": 80
        },
        {
          "output_type": "display_data",
          "data": {
            "text/plain": [
              "<Figure size 640x480 with 1 Axes>"
            ],
            "image/png": "[encoded data removed]"
          },
          "metadata": {}
        }
      ]
    },
    {
      "cell_type": "markdown",
      "source": [
        "y efectivamente se asemeja bastante a una normal ... por otro lado tampoco tiene mucha lógica que los goles a favor sigan una distribución gaussiana en Italia e Inglaterra pero no en España, y por último, Italia, con un stat de 0,91 sí se considera gaussiana, mientras España está en el 0,89, ambas con 20 equipos. Por todo ello y de forma pragmática, en este caso, sí consideramos adecuado aplicar el test ANOVA."
      ],
      "metadata": {
        "id": "r-GByFQRQOJ0"
      }
    },
    {
      "cell_type": "code",
      "source": [
        "from scipy.stats import f_oneway\n",
        "\n",
        "stat, p = f_oneway(GF_ESP, GF_ENG, GF_ITA)\n",
        "print('stat=%.3f, p=%.3f' % (stat, p))\n",
        "if p > 0.05:\n",
        " print('Las medias de goles a favor no presenta una diferencia significativa entre las tres ligas de España, Inglaterra e Italia.')\n",
        "else:\n",
        " print('Alguna de las ligas entre España, Inglaterra e Italia, es significativamente más ofensiva que las otras.')"
      ],
      "metadata": {
        "colab": {
          "base_uri": "https://localhost:8080/"
        },
        "id": "h77Tvwt7vCeM",
        "outputId": "5ecd8b86-422c-4397-f701-90db3d0bf658"
      },
      "execution_count": 81,
      "outputs": [
        {
          "output_type": "stream",
          "name": "stdout",
          "text": [
            "stat=0.807, p=0.451\n",
            "Las medias de goles a favor no presenta una diferencia significativa entre las tres ligas de España, Inglaterra e Italia.\n"
          ]
        }
      ]
    },
    {
      "cell_type": "markdown",
      "source": [
        "Aplicamos el test ANOVA para comparar las tres medias de goles a favor. El p-valor es de 0.451, es decir, también muy superior al 0.05 que nos permitiría descartar la hipótesis nula de que las medias son iguales. Por lo tanto concluímos que no hay una diferencia significativa en el nivel de dificultad de las ligas."
      ],
      "metadata": {
        "id": "8tuyFNvr-LRk"
      }
    },
    {
      "cell_type": "markdown",
      "source": [
        "- H0: La media de goles a favor entre los principales equipos de las ligas española, italiana e inglesa es la misma.\n",
        "- H1: La media de goles a favor no es la misma en estas tres ligas.\n",
        "- p-valor = 0,451 > 0,05\n",
        "\n",
        "Conclusión: no podemos descartar la hipótesis nula de que la media de goles a favor sea la misma entre las ligas española, italiana e inglesa, por lo tanto de que las tres ligas son iguales de ofensivas o defensivas. Es decir, de acuerdo con la muestra que representan los principales equipos de estas tres ligas, las tres son iguales de ofensivas o defensivas."
      ],
      "metadata": {
        "id": "r7hW04dX0EDm"
      }
    },
    {
      "cell_type": "markdown",
      "source": [
        "Finalmente, como resumen, primero hemos utilizado un test de Shapiro-Wilk para comprobar la normalidad de los datos referentes a los máximos goleadores de las ligas europeas, descartando la hipótesis de que sigan una distribución gaussiana - normal. En segundo lugar hemos comparado los dos 'atributos' de goles en contra para los 20 principales equipos de las ligas italiana y español con un test T, no pudiendo afirmar que la media de goles en contra en Italia sea significativamente menor que en España. Por último hemos utilizado un test ANOVA para comparar las medias de puntos por partido de los 20 principales equipos de las ligas española, inglesa e italiana, y tampoco hemos podido descartar que el nivel de dificultad sea parecido. En todos los casos el p-valor ha estado muy distante del necesario para concluir lo contrario.  \n",
        "Destacar por sorprendente el primer caso, obteniendo una probabilidad del 0.00 para afirmar que los goles de los máximos artilleros de estas ligas no siguen una distribución normal."
      ],
      "metadata": {
        "id": "b-_NxgjZyQaZ"
      }
    }
  ]
}